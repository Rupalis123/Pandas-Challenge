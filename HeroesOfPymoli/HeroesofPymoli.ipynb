{
 "cells": [
  {
   "cell_type": "markdown",
   "metadata": {},
   "source": [
    "## Pandas-Challenge - HeroesOfPymoli Analysis/ Report\n",
    "* Analytics using Pandas"
   ]
  },
  {
   "cell_type": "code",
   "execution_count": null,
   "metadata": {},
   "outputs": [],
   "source": [
    "# Dependencies and Setup\n",
    "import pandas as pd\n",
    "\n",
    "# File to Load (Remember to Change These)\n",
    "file_to_load = \"../Resources/purchase_data.csv\"\n",
    "\n",
    "# Read Purchasing File and store into Pandas data frame\n",
    "purchase_data_df = pd.read_csv(file_to_load)"
   ]
  },
  {
   "cell_type": "code",
   "execution_count": null,
   "metadata": {},
   "outputs": [],
   "source": [
    "purchase_data_df.head()"
   ]
  },
  {
   "cell_type": "markdown",
   "metadata": {},
   "source": [
    "## Player Count"
   ]
  },
  {
   "cell_type": "markdown",
   "metadata": {},
   "source": [
    "* Display the total number of players\n",
    "* This will be length of unique players in the list,using unique and len functions\n"
   ]
  },
  {
   "cell_type": "code",
   "execution_count": null,
   "metadata": {},
   "outputs": [],
   "source": [
    "TotalPlayers = len(purchase_data_df[\"SN\"].unique())\n",
    "TotalPlayers"
   ]
  },
  {
   "cell_type": "code",
   "execution_count": null,
   "metadata": {},
   "outputs": [],
   "source": [
    "## creating datafframe to hold players count (helps displying tabular format)\n",
    "\n",
    "PlayersCount = {\"Total Players\": [TotalPlayers]}\n",
    "PlayersCount_df = pd.DataFrame(PlayersCount)\n",
    "PlayersCount_df"
   ]
  },
  {
   "cell_type": "markdown",
   "metadata": {},
   "source": [
    "## Purchasing Analysis (Total)"
   ]
  },
  {
   "cell_type": "markdown",
   "metadata": {},
   "source": [
    "* Number of Unique Items\n",
    "* Average Purchase Price\n",
    "* Total Number of Purchases\n",
    "* Total Revenue"
   ]
  },
  {
   "cell_type": "code",
   "execution_count": null,
   "metadata": {
    "scrolled": true
   },
   "outputs": [],
   "source": [
    "## purchase_data_df.describe()\n",
    "\n",
    "UniqueItems = len(purchase_data_df[\"Item ID\"].unique())\n",
    "#UniqueItems\n",
    "\n",
    "AveragePrice = purchase_data_df[\"Price\"].mean()\n",
    "#AveragePrice\n",
    "\n",
    "NumberOfPurchases = purchase_data_df[\"Item ID\"].count()\n",
    "#NumberOfPurchases\n",
    "\n",
    "TotalRevenue = purchase_data_df[\"Price\"].sum()\n",
    "#TotalRevenue\n",
    "\n",
    "#purchase_data_summary = pd.set_option('precision', 2) #to set the precesion without formatting  \n",
    "\n",
    "\n",
    "## Summary dataframe to hold the calculations\n",
    "\n",
    "purchase_data_summary =pd.DataFrame({\"Number of Unique Items\":[UniqueItems], \n",
    "                                     \"Average Price\" : [AveragePrice],\n",
    "                                    \"Number of Purchases\" : [NumberOfPurchases],\n",
    "                                    \"Total Revenue\" : [TotalRevenue]})\n",
    "\n",
    "\n",
    "## Formatting for appropriate display \n",
    "\n",
    "purchase_data_summary[\"Average Price\"] = purchase_data_summary[\"Average Price\"].map(\"${:.2f}\".format)\n",
    "purchase_data_summary[\"Total Revenue\"] = purchase_data_summary[\"Total Revenue\"].map(\"${:.2f}\".format)\n",
    "\n",
    "\n",
    "## Summary table for the purchsing analysis\n",
    "\n",
    "purchase_data_summary\n"
   ]
  },
  {
   "cell_type": "markdown",
   "metadata": {},
   "source": [
    "## Gender Demographics"
   ]
  },
  {
   "cell_type": "markdown",
   "metadata": {},
   "source": [
    "* Percentage and Count of Male Players\n",
    "\n",
    "\n",
    "* Percentage and Count of Female Players\n",
    "\n",
    "\n",
    "* Percentage and Count of Other / Non-Disclosed\n"
   ]
  },
  {
   "cell_type": "code",
   "execution_count": null,
   "metadata": {},
   "outputs": [],
   "source": [
    "## Creating new dataframe with player and gender\n",
    "\n",
    "GenderDemographics_df = pd.DataFrame({\"Player\" : purchase_data_df[\"SN\"], \"Gender\" :purchase_data_df[\"Gender\"]})\n",
    "\n",
    "## Keeping only 1 entry for the player in the dataframe by dropping duplicates. Wanted to try this logic instead of group by\n",
    "## This is needed to get accurate calculation for percentages\n",
    "\n",
    "GenderDemographics_df1 = GenderDemographics_df.drop_duplicates(subset = [\"Player\"])\n",
    "#GenderDemographics_df1\n",
    "\n",
    "## getting counts by gender \n",
    "GenderDemographics = GenderDemographics_df1[\"Gender\"].value_counts()\n",
    "count_df = pd.DataFrame(GenderDemographics)\n",
    "\n",
    "## calculating percentages based on gender\n",
    "count_df[\"Percentage of Players\"] = (count_df.sum(axis=1) / TotalPlayers) * 100\n",
    "\n",
    "## renaming column with appropriate header\n",
    "\n",
    "count_df1 = count_df.rename(columns={\"Gender\":\"Total Count\"})\n",
    "\n",
    "## formatting percentages for 2 decimals \n",
    "count_df1[\"Percentage of Players\"] =  count_df1[\"Percentage of Players\"].map(\"{:,.2f}%\".format)\n",
    "\n",
    "count_df1\n",
    "\n"
   ]
  },
  {
   "cell_type": "markdown",
   "metadata": {},
   "source": [
    "\n",
    "## Purchasing Analysis (Gender)"
   ]
  },
  {
   "cell_type": "markdown",
   "metadata": {},
   "source": [
    "Broken by gender\n",
    "* Purchase Count\n",
    "* Average Purchase Price\n",
    "* Total Purchase Value\n",
    "* Average Purchase Total per Person by Gender\n"
   ]
  },
  {
   "cell_type": "code",
   "execution_count": null,
   "metadata": {},
   "outputs": [],
   "source": [
    "## grouping by gender to run summary calculations\n",
    "gender_group = purchase_data_df.groupby(\"Gender\")\n",
    "\n",
    "totalpurchase_count = gender_group[\"Age\"].count()\n",
    "\n",
    "average_purchase = gender_group[\"Price\"].mean()\n",
    "\n",
    "totalpurchase = gender_group[\"Price\"].sum()\n",
    "\n",
    "uniquePlayers = gender_group[\"SN\"].nunique()\n",
    "average_purchase_person =(gender_group[\"Price\"].sum()/uniquePlayers)\n",
    "#average_purchase_person\n",
    "\n",
    "##creating a summary table for above calculations \n",
    "\n",
    "puchasing_by_gender_df = pd.DataFrame({\"Purchase Count\": totalpurchase_count, \"Average Purchase Price\": average_purchase, \n",
    "                                       \"Total Purchase Value\": totalpurchase, \"Average Purchase Total Per Person\":average_purchase_person})\n",
    "\n",
    "#puchasing_by_gender_df.head()\n",
    "\n",
    "\n",
    "## formatting data for appropriate display\n",
    "\n",
    "puchasing_by_gender_df[\"Average Purchase Price\"] = puchasing_by_gender_df[\"Average Purchase Price\"].map(\"${:.2f}\".format)\n",
    "puchasing_by_gender_df[\"Total Purchase Value\"]  = puchasing_by_gender_df[\"Total Purchase Value\"].map(\"${:,.2f}\".format)\n",
    "puchasing_by_gender_df[\"Average Purchase Total Per Person\"] = puchasing_by_gender_df[\"Average Purchase Total Per Person\"].map(\"${:.2f}\".format)\n",
    "\n",
    "puchasing_by_gender_df.head()\n",
    "\n",
    "\n",
    "\n",
    "\n"
   ]
  },
  {
   "cell_type": "markdown",
   "metadata": {},
   "source": [
    "## Age Demographics"
   ]
  },
  {
   "cell_type": "markdown",
   "metadata": {},
   "source": [
    "Broken into bins of 4 years (i.e. <10, 10-14, 15-19, etc.)\n",
    "* Purchase Count\n",
    "* Average Purchase Price\n",
    "* Total Purchase Value\n",
    "* Average Purchase Total per Person by Age Group\n"
   ]
  },
  {
   "cell_type": "code",
   "execution_count": null,
   "metadata": {},
   "outputs": [],
   "source": [
    "## Establishing bins for ages and categorizing players using age bins.\n",
    "## last bin is 9999 (could have been 120 as appropriate) to accommodate any value over age 40 just in case accidently entered for larger number\n",
    "\n",
    "age_bins = [0, 9.9, 14.9, 19.9, 24.9, 29.9, 34.9, 39.9, 9999]\n",
    "category = [\"<10\", \"10-14\", \"15-19\", \"20-24\", \"25-29\", \"30-34\", \"35-39\", \"40+\"]\n",
    "\n",
    "\n",
    "purchase_data_df[\"Age Group\"] = pd.cut(purchase_data_df[\"Age\"], age_bins, labels = category)\n",
    "purchase_data_df\n",
    "\n",
    "\n",
    "## For summarization using groupby on Age Group \n",
    "\n",
    "age_group = purchase_data_df.groupby(\"Age Group\")\n",
    "\n",
    "## Calculating total number and percenatge of players by age group\n",
    "\n",
    "uniquePlayers = age_group[\"SN\"].nunique()\n",
    "\n",
    "PercentPlayersAgeGroup = (uniquePlayers/ TotalPlayers) * 100\n",
    "\n",
    "\n",
    "## creating a table for summary calculations\n",
    "\n",
    "age_demographics_df = pd.DataFrame({\"Total Count\": uniquePlayers, \"Percentage of Players\": PercentPlayersAgeGroup})\n",
    "#age_demographics_df\n",
    "\n",
    "\n",
    "## formatting for apporpriate display\n",
    "age_demographics_df[\"Percentage of Players\"] = age_demographics_df[\"Percentage of Players\"].map(\"{:,.2f}%\".format)\n",
    "\n",
    "\n",
    "## Displaying Age Demographics table \n",
    "\n",
    "age_demographics_df\n"
   ]
  },
  {
   "cell_type": "markdown",
   "metadata": {},
   "source": [
    "## Purchasing Analysis (Age)"
   ]
  },
  {
   "cell_type": "markdown",
   "metadata": {},
   "source": [
    "* Bin the purchase_data data frame by age\n",
    "\n",
    "\n",
    "* Run basic calculations to obtain purchase count, avg. purchase price, avg. purchase total per person etc. in the table below\n",
    "\n",
    "\n",
    "* Create a summary data frame to hold the results\n",
    "\n",
    "\n",
    "* Optional: give the displayed data cleaner formatting\n",
    "\n",
    "\n",
    "* Display the summary data frame"
   ]
  },
  {
   "cell_type": "code",
   "execution_count": null,
   "metadata": {},
   "outputs": [],
   "source": [
    "## Establishing bins for ages and categorizing players using age bins.\n",
    "\n",
    "age_bins = [0, 9.9, 14.9, 19.9, 24.9, 29.9, 34.9, 39.9, 9999]\n",
    "category = [\"<10\", \"10-14\", \"15-19\", \"20-24\", \"25-29\", \"30-34\", \"35-39\", \"40+\"]\n",
    "\n",
    "\n",
    "purchase_data_df[\"Age Ranges\"] = pd.cut(purchase_data_df[\"Age\"], age_bins, labels = category)\n",
    "#purchase_data_df\n",
    "\n",
    "## For summarization using groupby on Age Group \n",
    "\n",
    "age_group = purchase_data_df.groupby(\"Age Ranges\")\n",
    "\n",
    "\n",
    "## Calculating purchase count, avg. purchase price, avg. purchase total per person by age group\n",
    "\n",
    "PurchaseCount = age_group[\"Age\"].count()\n",
    "AveragePurchasePrice = age_group[\"Price\"].mean()\n",
    "\n",
    "TotalPurchaseValue = age_group[\"Price\"].sum()\n",
    "## uniquePlayers = age_group[\"SN\"].nunique() has been calculated for age demographics so making use of the variable instead of recalculating\n",
    "\n",
    "AvgTotalPurchasePerPerson = TotalPurchaseValue / uniquePlayers\n",
    "\n",
    "PurchaseAnalysisAge_df = pd.DataFrame({\"Purchase Count\" : PurchaseCount, \n",
    "                                      \"Average Purchase Price\" : AveragePurchasePrice,\n",
    "                                       \"Total Purchase Value\" : TotalPurchaseValue,\n",
    "                                      \"Avg Total Purchase Per Person\" : AvgTotalPurchasePerPerson\n",
    "                                      })\n",
    "\n",
    "#PurchaseAnalysisAge_df\n",
    "\n",
    "## Formatting for appropriate display\n",
    "\n",
    "PurchaseAnalysisAge_df[\"Average Purchase Price\"] = PurchaseAnalysisAge_df[\"Average Purchase Price\"].map(\"${:,.2f}\".format)\n",
    "PurchaseAnalysisAge_df[\"Total Purchase Value\"] = PurchaseAnalysisAge_df[\"Total Purchase Value\"].map(\"${:,.2f}\".format)\n",
    "PurchaseAnalysisAge_df[\"Avg Total Purchase Per Person\"] = PurchaseAnalysisAge_df[\"Avg Total Purchase Per Person\"].map(\"${:,.2f}\".format)\n",
    "\n",
    "\n",
    "## Displaying summary in table / dataframe\n",
    "\n",
    "PurchaseAnalysisAge_df\n",
    "\n"
   ]
  },
  {
   "cell_type": "markdown",
   "metadata": {},
   "source": [
    "## Top Spenders"
   ]
  },
  {
   "cell_type": "markdown",
   "metadata": {},
   "source": [
    "Top 5 spenders in the game by total purchase value in a table:\n",
    "* SN\n",
    "* Purchase Count\n",
    "* Average Purchase Price\n",
    "* Total Purchase Value\n",
    "\n",
    "\n"
   ]
  },
  {
   "cell_type": "code",
   "execution_count": null,
   "metadata": {},
   "outputs": [],
   "source": [
    "## Groping by SN \n",
    "SN_group = purchase_data_df.groupby(\"SN\")\n",
    "\n",
    "## Calculating purchase count, avg. purchase price, total purchase value by SN\n",
    "PurchaseCountSN = SN_group[\"Age\"].count()\n",
    "AvgPurchaseSN = SN_group[\"Price\"].mean()\n",
    "TotalPurchaseValueSN = SN_group[\"Price\"].sum()\n",
    "\n",
    "## Creating a DataFrame to hold the results \n",
    "Top_Spenders = pd.DataFrame({\"Purchase Count\": PurchaseCountSN, \"Average Purchase Price\": AvgPurchaseSN,\n",
    "                           \"Total Purchase Value\": TotalPurchaseValueSN})\n",
    "\n",
    "# Sorting the total purchase value column in descending order to view highest to lowest total purchases\n",
    "Top_Spenders = Top_Spenders.sort_values(\"Total Purchase Value\", ascending = False)\n",
    "\n",
    "# do a clean formatting \n",
    "Top_Spenders[\"Average Purchase Price\"] = Top_Spenders[\"Average Purchase Price\"].map(\"${:.2f}\".format)\n",
    "Top_Spenders[\"Total Purchase Value\"]  = Top_Spenders[\"Total Purchase Value\"].map(\"${:,.2f}\".format)\n",
    "\n",
    "# display the above results(Top Spenders sumamry table )\n",
    "Top_Spenders.head()\n"
   ]
  },
  {
   "cell_type": "markdown",
   "metadata": {},
   "source": [
    "## Most Popular Items"
   ]
  },
  {
   "cell_type": "markdown",
   "metadata": {},
   "source": [
    "5 most popular items by purchase count in a table\n",
    "* Item ID\n",
    "* Item Name\n",
    "* Purchase Count\n",
    "* Item Price\n",
    "* Total Purchase Value\n"
   ]
  },
  {
   "cell_type": "code",
   "execution_count": null,
   "metadata": {},
   "outputs": [],
   "source": [
    "##  Retrieve the Item ID, Item Name, and Item Price columns\n",
    "\n",
    "PopularItems_df = purchase_data_df.loc[:,[\"Item ID\",\"Item Name\",\"Price\"]]\n",
    "#PopularItems_df.head()\n",
    "\n",
    "## Group by Item ID and Item Name. \n",
    "## Perform calculations to obtain purchase count, average item price, and total purchase value\n",
    "\n",
    "PopularItems_group = purchase_data_df.groupby([\"Item ID\",\"Item Name\"])\n",
    "#PopularItems_group.count()\n",
    "\n",
    "PurchaseCountPopularItems = PopularItems_group[\"Item ID\"].count()\n",
    "#PurchaseCountPopularItems.count()\n",
    "AvgPurchasePopularItems = PopularItems_group[\"Price\"].mean()\n",
    "TotalPurchaseValuePopularItems = PopularItems_group[\"Price\"].sum()\n",
    "\n",
    "## Create a summary data frame to hold the results\n",
    "\n",
    "MostPopularItems_df = pd.DataFrame({\"Purchase Count\": PurchaseCountPopularItems, \n",
    "                                    \"Average Purchase Price\": AvgPurchasePopularItems,\n",
    "                                   \"Total Purchase Value\": TotalPurchaseValuePopularItems})\n",
    "\n",
    "#MostPopularItems_df\n",
    "\n",
    "## Sort the purchase count column in descending order\n",
    "\n",
    "MostPopularItems_df = MostPopularItems_df.sort_values(\"Purchase Count\", ascending = False)\n",
    "\n",
    "## Formatting for appropriate display\n",
    "\n",
    "MostPopularItems_df[\"Total Purchase Value\"]  = MostPopularItems_df[\"Total Purchase Value\"].map(\"${:,.2f}\".format)\n",
    "MostPopularItems_df[\"Average Purchase Price\"] = MostPopularItems_df[\"Average Purchase Price\"].map(\"${:.2f}\".format)\n",
    "\n",
    "\n",
    "# Displaying 5 most popular items summary in a table\n",
    "MostPopularItems_df.head()\n",
    "\n"
   ]
  },
  {
   "cell_type": "markdown",
   "metadata": {},
   "source": [
    "## Most Profitable Items"
   ]
  },
  {
   "cell_type": "markdown",
   "metadata": {},
   "source": [
    "5 most profitable items by total purchase value, then list (in a table):\n",
    "* Item ID\n",
    "* Item Name\n",
    "* Purchase Count\n",
    "* Item Price\n",
    "* Total Purchase Value"
   ]
  },
  {
   "cell_type": "code",
   "execution_count": null,
   "metadata": {
    "scrolled": true
   },
   "outputs": [],
   "source": [
    "# Group by Item ID and Item Name. \n",
    "ProfitableItem_group = purchase_data_df.groupby([\"Item ID\",\"Item Name\"])\n",
    "\n",
    "# Perform calculations to obtain purchase count, item price, and total purchase value\n",
    "PurchaseCountProfitableItem = ProfitableItem_group[\"Item ID\"].count()\n",
    "AvgPurchaseProfitableItem = ProfitableItem_group[\"Price\"].mean()\n",
    "TotalPurchaseValueProfitableItem = ProfitableItem_group[\"Price\"].sum()\n",
    "\n",
    "# create a DataFrame to hold the results \n",
    "MostPopularItems_df = pd.DataFrame({\"Purchase Count\": PurchaseCountProfitableItem,\n",
    "                                 \"Average Purchase Price\": AvgPurchaseProfitableItem,\n",
    "                                   \"Total Purchase Value\": TotalPurchaseValueProfitableItem})\n",
    "\n",
    "\n",
    "# Sort the  total purchase value column in descending order \n",
    "MostPopularItems_df = MostPopularItems_df.sort_values(\"Total Purchase Value\", ascending = False)\n",
    "MostPopularItems_df[\"Total Purchase Value\"]  = MostPopularItems_df[\"Total Purchase Value\"].map(\"${:,.2f}\".format)\n",
    "MostPopularItems_df[\"Average Purchase Price\"] = MostPopularItems_df[\"Average Purchase Price\"].map(\"${:.2f}\".format)\n",
    "\n",
    "# display the Most Profitable Items summary table \n",
    "MostPopularItems_df.head()\n"
   ]
  }
 ],
 "metadata": {
  "anaconda-cloud": {},
  "kernel_info": {
   "name": "python3"
  },
  "kernelspec": {
   "display_name": "Python 3",
   "language": "python",
   "name": "python3"
  },
  "language_info": {
   "codemirror_mode": {
    "name": "ipython",
    "version": 3
   },
   "file_extension": ".py",
   "mimetype": "text/x-python",
   "name": "python",
   "nbconvert_exporter": "python",
   "pygments_lexer": "ipython3",
   "version": "3.8.3"
  },
  "latex_envs": {
   "LaTeX_envs_menu_present": true,
   "autoclose": false,
   "autocomplete": true,
   "bibliofile": "biblio.bib",
   "cite_by": "apalike",
   "current_citInitial": 1,
   "eqLabelWithNumbers": true,
   "eqNumInitial": 1,
   "hotkeys": {
    "equation": "Ctrl-E",
    "itemize": "Ctrl-I"
   },
   "labels_anchors": false,
   "latex_user_defs": false,
   "report_style_numbering": false,
   "user_envs_cfg": false
  },
  "nteract": {
   "version": "0.2.0"
  }
 },
 "nbformat": 4,
 "nbformat_minor": 2
}
